{
 "cells": [
  {
   "cell_type": "markdown",
   "metadata": {},
   "source": [
    "# 1. Data Cleaning "
   ]
  },
  {
   "cell_type": "code",
   "execution_count": 289,
   "metadata": {},
   "outputs": [],
   "source": [
    "# installing\n",
    "%matplotlib inline\n",
    "import pandas as pd\n",
    "import numpy as np\n",
    "import matplotlib.pyplot as plt"
   ]
  },
  {
   "cell_type": "code",
   "execution_count": 290,
   "metadata": {},
   "outputs": [],
   "source": [
    "bitmex_price = pd.read_csv('bitmex_prices .csv')"
   ]
  },
  {
   "cell_type": "markdown",
   "metadata": {},
   "source": [
    "### Checking missing values"
   ]
  },
  {
   "cell_type": "code",
   "execution_count": 291,
   "metadata": {},
   "outputs": [
    {
     "data": {
      "text/plain": [
       "date      0\n",
       "xbtusd    0\n",
       "dtype: int64"
      ]
     },
     "execution_count": 291,
     "metadata": {},
     "output_type": "execute_result"
    }
   ],
   "source": [
    "bitmex_price.isnull().sum()"
   ]
  },
  {
   "cell_type": "markdown",
   "metadata": {},
   "source": [
    "**Observation** <br>\n",
    "No missing values,data is already cleaned. but we want to make sure\n",
    "1. datetypes is stored appropriately\n",
    "2. The data is in correct order"
   ]
  },
  {
   "cell_type": "code",
   "execution_count": 292,
   "metadata": {},
   "outputs": [
    {
     "data": {
      "text/html": [
       "<div>\n",
       "<style scoped>\n",
       "    .dataframe tbody tr th:only-of-type {\n",
       "        vertical-align: middle;\n",
       "    }\n",
       "\n",
       "    .dataframe tbody tr th {\n",
       "        vertical-align: top;\n",
       "    }\n",
       "\n",
       "    .dataframe thead th {\n",
       "        text-align: right;\n",
       "    }\n",
       "</style>\n",
       "<table border=\"1\" class=\"dataframe\">\n",
       "  <thead>\n",
       "    <tr style=\"text-align: right;\">\n",
       "      <th></th>\n",
       "      <th>date</th>\n",
       "      <th>xbtusd</th>\n",
       "    </tr>\n",
       "  </thead>\n",
       "  <tbody>\n",
       "    <tr>\n",
       "      <th>0</th>\n",
       "      <td>2019-04-13 10:55:00</td>\n",
       "      <td>5053.25</td>\n",
       "    </tr>\n",
       "    <tr>\n",
       "      <th>1</th>\n",
       "      <td>2019-04-13 10:56:00</td>\n",
       "      <td>5053.25</td>\n",
       "    </tr>\n",
       "    <tr>\n",
       "      <th>2</th>\n",
       "      <td>2019-04-13 10:57:00</td>\n",
       "      <td>5053.25</td>\n",
       "    </tr>\n",
       "    <tr>\n",
       "      <th>3</th>\n",
       "      <td>2019-04-13 10:58:00</td>\n",
       "      <td>5052.25</td>\n",
       "    </tr>\n",
       "    <tr>\n",
       "      <th>4</th>\n",
       "      <td>2019-04-13 10:59:00</td>\n",
       "      <td>5049.25</td>\n",
       "    </tr>\n",
       "  </tbody>\n",
       "</table>\n",
       "</div>"
      ],
      "text/plain": [
       "                  date   xbtusd\n",
       "0  2019-04-13 10:55:00  5053.25\n",
       "1  2019-04-13 10:56:00  5053.25\n",
       "2  2019-04-13 10:57:00  5053.25\n",
       "3  2019-04-13 10:58:00  5052.25\n",
       "4  2019-04-13 10:59:00  5049.25"
      ]
     },
     "execution_count": 292,
     "metadata": {},
     "output_type": "execute_result"
    }
   ],
   "source": [
    "bitmex_price.head()"
   ]
  },
  {
   "cell_type": "code",
   "execution_count": 293,
   "metadata": {},
   "outputs": [
    {
     "data": {
      "text/plain": [
       "date       object\n",
       "xbtusd    float64\n",
       "dtype: object"
      ]
     },
     "execution_count": 293,
     "metadata": {},
     "output_type": "execute_result"
    }
   ],
   "source": [
    "bitmex_price.dtypes"
   ]
  },
  {
   "cell_type": "markdown",
   "metadata": {},
   "source": [
    "**currently the date column is object data type, converting it to datetime to allow more manipulation on data**"
   ]
  },
  {
   "cell_type": "code",
   "execution_count": 294,
   "metadata": {},
   "outputs": [
    {
     "data": {
      "text/plain": [
       "date      datetime64[ns]\n",
       "xbtusd           float64\n",
       "dtype: object"
      ]
     },
     "execution_count": 294,
     "metadata": {},
     "output_type": "execute_result"
    }
   ],
   "source": [
    "bitmex_price['date'] = pd.to_datetime(bitmex_price['date'])\n",
    "bitmex_price.dtypes"
   ]
  },
  {
   "cell_type": "code",
   "execution_count": 295,
   "metadata": {},
   "outputs": [
    {
     "data": {
      "text/plain": [
       "Timedelta('0 days 00:01:00')"
      ]
     },
     "execution_count": 295,
     "metadata": {},
     "output_type": "execute_result"
    }
   ],
   "source": [
    "bitmex_price['date'][1] - bitmex_price['date'][0]"
   ]
  },
  {
   "cell_type": "markdown",
   "metadata": {},
   "source": [
    "### Making sure the date was correctly sorted "
   ]
  },
  {
   "cell_type": "code",
   "execution_count": 296,
   "metadata": {},
   "outputs": [],
   "source": [
    "temp = bitmex_price.sort_values(by='date')"
   ]
  },
  {
   "cell_type": "code",
   "execution_count": 297,
   "metadata": {},
   "outputs": [
    {
     "data": {
      "text/plain": [
       "True"
      ]
     },
     "execution_count": 297,
     "metadata": {},
     "output_type": "execute_result"
    }
   ],
   "source": [
    "(temp['date'] == bitmex_price['date']).sum() == len(bitmex_price)"
   ]
  },
  {
   "cell_type": "markdown",
   "metadata": {},
   "source": [
    "the data is in correct order"
   ]
  },
  {
   "cell_type": "markdown",
   "metadata": {},
   "source": [
    "# 2. Data Analysis & Visualization"
   ]
  },
  {
   "cell_type": "code",
   "execution_count": 298,
   "metadata": {},
   "outputs": [
    {
     "data": {
      "text/html": [
       "<div>\n",
       "<style scoped>\n",
       "    .dataframe tbody tr th:only-of-type {\n",
       "        vertical-align: middle;\n",
       "    }\n",
       "\n",
       "    .dataframe tbody tr th {\n",
       "        vertical-align: top;\n",
       "    }\n",
       "\n",
       "    .dataframe thead th {\n",
       "        text-align: right;\n",
       "    }\n",
       "</style>\n",
       "<table border=\"1\" class=\"dataframe\">\n",
       "  <thead>\n",
       "    <tr style=\"text-align: right;\">\n",
       "      <th></th>\n",
       "      <th>xbtusd</th>\n",
       "    </tr>\n",
       "  </thead>\n",
       "  <tbody>\n",
       "    <tr>\n",
       "      <th>count</th>\n",
       "      <td>121922.000000</td>\n",
       "    </tr>\n",
       "    <tr>\n",
       "      <th>mean</th>\n",
       "      <td>7861.513337</td>\n",
       "    </tr>\n",
       "    <tr>\n",
       "      <th>std</th>\n",
       "      <td>2125.928309</td>\n",
       "    </tr>\n",
       "    <tr>\n",
       "      <th>min</th>\n",
       "      <td>4958.250000</td>\n",
       "    </tr>\n",
       "    <tr>\n",
       "      <th>25%</th>\n",
       "      <td>5679.750000</td>\n",
       "    </tr>\n",
       "    <tr>\n",
       "      <th>50%</th>\n",
       "      <td>7938.750000</td>\n",
       "    </tr>\n",
       "    <tr>\n",
       "      <th>75%</th>\n",
       "      <td>8873.250000</td>\n",
       "    </tr>\n",
       "    <tr>\n",
       "      <th>max</th>\n",
       "      <td>13888.250000</td>\n",
       "    </tr>\n",
       "  </tbody>\n",
       "</table>\n",
       "</div>"
      ],
      "text/plain": [
       "              xbtusd\n",
       "count  121922.000000\n",
       "mean     7861.513337\n",
       "std      2125.928309\n",
       "min      4958.250000\n",
       "25%      5679.750000\n",
       "50%      7938.750000\n",
       "75%      8873.250000\n",
       "max     13888.250000"
      ]
     },
     "execution_count": 298,
     "metadata": {},
     "output_type": "execute_result"
    }
   ],
   "source": [
    "bitmex_price.describe()"
   ]
  },
  {
   "cell_type": "markdown",
   "metadata": {},
   "source": [
    "## The Prices from beginning  to the end"
   ]
  },
  {
   "cell_type": "code",
   "execution_count": 299,
   "metadata": {},
   "outputs": [
    {
     "data": {
      "text/plain": [
       "[<matplotlib.lines.Line2D at 0x1a3f0e84a8>]"
      ]
     },
     "execution_count": 299,
     "metadata": {},
     "output_type": "execute_result"
    },
    {
     "data": {
      "image/png": "[encoded data removed]",
      "text/plain": [
       "<Figure size 432x288 with 1 Axes>"
      ]
     },
     "metadata": {
      "needs_background": "light"
     },
     "output_type": "display_data"
    }
   ],
   "source": [
    "plt.plot(bitmex_price['xbtusd'])"
   ]
  },
  {
   "cell_type": "markdown",
   "metadata": {},
   "source": [
    "## The Prices of last 30 minutes"
   ]
  },
  {
   "cell_type": "code",
   "execution_count": 300,
   "metadata": {},
   "outputs": [
    {
     "data": {
      "text/plain": [
       "[<matplotlib.lines.Line2D at 0x1a3f14fb38>]"
      ]
     },
     "execution_count": 300,
     "metadata": {},
     "output_type": "execute_result"
    },
    {
     "data": {
      "image/png": "[encoded data removed]",
      "text/plain": [
       "<Figure size 432x288 with 1 Axes>"
      ]
     },
     "metadata": {
      "needs_background": "light"
     },
     "output_type": "display_data"
    }
   ],
   "source": [
    "plt.plot(bitmex_price['xbtusd'][-30:])"
   ]
  },
  {
   "cell_type": "code",
   "execution_count": 301,
   "metadata": {},
   "outputs": [],
   "source": [
    "def to_hour(df, agg=np.mean):\n",
    "    df = df.copy()\n",
    "    counter = 0\n",
    "    minunte_prices = []\n",
    "    hour_prices = []\n",
    "    for x in df['xbtusd']:\n",
    "        minunte_prices.append(x)\n",
    "        if len(minunte_prices) == 60:\n",
    "            hour_prices.append(agg(minunte_prices))\n",
    "            minunte_prices = []\n",
    "    hour_prices.append(agg(minunte_prices))\n",
    "    return pd.Series(hour_prices)\n",
    "\n",
    "hour_avg_prices = to_hour(bitmex_price, np.mean)\n",
    "hour_max_prices = to_hour(bitmex_price, np.max)\n",
    "hour_min_prices = to_hour(bitmex_price, np.min)"
   ]
  },
  {
   "cell_type": "markdown",
   "metadata": {},
   "source": [
    "## The Average  Prices by Hour"
   ]
  },
  {
   "cell_type": "code",
   "execution_count": 302,
   "metadata": {},
   "outputs": [
    {
     "data": {
      "text/plain": [
       "<matplotlib.legend.Legend at 0x1a4718be80>"
      ]
     },
     "execution_count": 302,
     "metadata": {},
     "output_type": "execute_result"
    },
    {
     "data": {
      "image/png": "[encoded data removed]",
      "text/plain": [
       "<Figure size 432x288 with 1 Axes>"
      ]
     },
     "metadata": {
      "needs_background": "light"
     },
     "output_type": "display_data"
    }
   ],
   "source": [
    "plt.plot(hour_avg_prices)\n",
    "plt.plot(hour_max_prices)\n",
    "plt.plot(hour_min_prices)\n",
    "\n",
    "plt.legend(['average', 'max', 'min'], loc='upper left')"
   ]
  },
  {
   "cell_type": "markdown",
   "metadata": {},
   "source": [
    "### last 24 hours"
   ]
  },
  {
   "cell_type": "code",
   "execution_count": 303,
   "metadata": {},
   "outputs": [
    {
     "data": {
      "text/plain": [
       "<matplotlib.legend.Legend at 0x1a471e5128>"
      ]
     },
     "execution_count": 303,
     "metadata": {},
     "output_type": "execute_result"
    },
    {
     "data": {
      "image/png": "[encoded data removed]",
      "text/plain": [
       "<Figure size 432x288 with 1 Axes>"
      ]
     },
     "metadata": {
      "needs_background": "light"
     },
     "output_type": "display_data"
    }
   ],
   "source": [
    "plt.plot(hour_avg_prices[-24:])\n",
    "plt.plot(hour_max_prices[-24:])\n",
    "plt.plot(hour_min_prices[-24:])\n",
    "\n",
    "plt.legend(['average', 'max', 'min'], loc='upper right')"
   ]
  },
  {
   "cell_type": "code",
   "execution_count": 304,
   "metadata": {},
   "outputs": [],
   "source": [
    "def to_day(df, agg=np.mean):\n",
    "    hours = to_hour(df, agg)\n",
    "    hour_prices = []\n",
    "    day_prices = []\n",
    "    for hour in hours:\n",
    "        hour_prices.append(hour)\n",
    "        if len(hour_prices) == 24:\n",
    "            day_prices.append(agg(hour_prices))\n",
    "            hour_prices = []\n",
    "    day_prices.append(agg(hour_prices))\n",
    "    return pd.Series(day_prices)\n",
    "\n",
    "day_avg = to_day(bitmex_price, np.mean)\n",
    "day_max = to_day(bitmex_price, np.max)\n",
    "day_min = to_day(bitmex_price, np.min)"
   ]
  },
  {
   "cell_type": "markdown",
   "metadata": {},
   "source": [
    "## Prices By Days"
   ]
  },
  {
   "cell_type": "code",
   "execution_count": 305,
   "metadata": {},
   "outputs": [
    {
     "data": {
      "text/plain": [
       "<matplotlib.legend.Legend at 0x1a4057cf60>"
      ]
     },
     "execution_count": 305,
     "metadata": {},
     "output_type": "execute_result"
    },
    {
     "data": {
      "image/png": "[encoded data removed]",
      "text/plain": [
       "<Figure size 432x288 with 1 Axes>"
      ]
     },
     "metadata": {
      "needs_background": "light"
     },
     "output_type": "display_data"
    }
   ],
   "source": [
    "plt.plot(day_avg)\n",
    "plt.plot(day_max)\n",
    "plt.plot(day_min)\n",
    "\n",
    "plt.legend(['average', 'max', 'min'], loc='upper left')"
   ]
  },
  {
   "cell_type": "markdown",
   "metadata": {},
   "source": [
    "### last 7 days"
   ]
  },
  {
   "cell_type": "code",
   "execution_count": 306,
   "metadata": {},
   "outputs": [
    {
     "data": {
      "text/plain": [
       "<matplotlib.legend.Legend at 0x1a44cfc080>"
      ]
     },
     "execution_count": 306,
     "metadata": {},
     "output_type": "execute_result"
    },
    {
     "data": {
      "image/png": "[encoded data removed]",
      "text/plain": [
       "<Figure size 432x288 with 1 Axes>"
      ]
     },
     "metadata": {
      "needs_background": "light"
     },
     "output_type": "display_data"
    }
   ],
   "source": [
    "plt.plot(day_avg[-7:])\n",
    "plt.plot(day_max[-7:])\n",
    "plt.plot(day_min[-7:])\n",
    "\n",
    "plt.legend(['average', 'max', 'min'], loc='upper left')"
   ]
  },
  {
   "cell_type": "markdown",
   "metadata": {},
   "source": [
    "# 3. Feature Engineering"
   ]
  },
  {
   "cell_type": "markdown",
   "metadata": {},
   "source": [
    "**Set Target Variable** <br>\n",
    "We want to predict the next minute price will rise or not. Therefore, if current minutes' price is higher than the last minute, it is 1, otherwise it is 0"
   ]
  },
  {
   "cell_type": "code",
   "execution_count": 307,
   "metadata": {},
   "outputs": [
    {
     "data": {
      "text/html": [
       "<div>\n",
       "<style scoped>\n",
       "    .dataframe tbody tr th:only-of-type {\n",
       "        vertical-align: middle;\n",
       "    }\n",
       "\n",
       "    .dataframe tbody tr th {\n",
       "        vertical-align: top;\n",
       "    }\n",
       "\n",
       "    .dataframe thead th {\n",
       "        text-align: right;\n",
       "    }\n",
       "</style>\n",
       "<table border=\"1\" class=\"dataframe\">\n",
       "  <thead>\n",
       "    <tr style=\"text-align: right;\">\n",
       "      <th></th>\n",
       "      <th>date</th>\n",
       "      <th>xbtusd</th>\n",
       "      <th>target</th>\n",
       "    </tr>\n",
       "  </thead>\n",
       "  <tbody>\n",
       "    <tr>\n",
       "      <th>1</th>\n",
       "      <td>2019-04-13 10:56:00</td>\n",
       "      <td>5053.25</td>\n",
       "      <td>5053.25</td>\n",
       "    </tr>\n",
       "    <tr>\n",
       "      <th>2</th>\n",
       "      <td>2019-04-13 10:57:00</td>\n",
       "      <td>5053.25</td>\n",
       "      <td>5052.25</td>\n",
       "    </tr>\n",
       "    <tr>\n",
       "      <th>3</th>\n",
       "      <td>2019-04-13 10:58:00</td>\n",
       "      <td>5052.25</td>\n",
       "      <td>5049.25</td>\n",
       "    </tr>\n",
       "    <tr>\n",
       "      <th>4</th>\n",
       "      <td>2019-04-13 10:59:00</td>\n",
       "      <td>5049.25</td>\n",
       "      <td>5047.25</td>\n",
       "    </tr>\n",
       "    <tr>\n",
       "      <th>5</th>\n",
       "      <td>2019-04-13 11:00:00</td>\n",
       "      <td>5047.25</td>\n",
       "      <td>5051.25</td>\n",
       "    </tr>\n",
       "  </tbody>\n",
       "</table>\n",
       "</div>"
      ],
      "text/plain": [
       "                 date   xbtusd   target\n",
       "1 2019-04-13 10:56:00  5053.25  5053.25\n",
       "2 2019-04-13 10:57:00  5053.25  5052.25\n",
       "3 2019-04-13 10:58:00  5052.25  5049.25\n",
       "4 2019-04-13 10:59:00  5049.25  5047.25\n",
       "5 2019-04-13 11:00:00  5047.25  5051.25"
      ]
     },
     "execution_count": 307,
     "metadata": {},
     "output_type": "execute_result"
    }
   ],
   "source": [
    "y = bitmex_price['xbtusd'].shift(-1)\n",
    "bitmex_price['target'] = y\n",
    "bitmex_price.drop(bitmex_price.index[0] , inplace=True)\n",
    "bitmex_price.drop(bitmex_price.index[-1] , inplace=True)\n",
    "bitmex_price.head()"
   ]
  },
  {
   "cell_type": "markdown",
   "metadata": {},
   "source": [
    "### Adding Custome Features "
   ]
  },
  {
   "cell_type": "markdown",
   "metadata": {},
   "source": [
    "we will be adding following list of features to see if can help us classify better\n",
    "1. change from 1 minute ago\n",
    "2. change from 3 minute ago \n",
    "3. change from 5 minute ago \n",
    "4. change from 10 minute ago\n",
    "5. difference from average of last 5 mins\n",
    "6. difference from average of last 10 mins\n",
    "7. difference from average of last 60 mins"
   ]
  },
  {
   "cell_type": "code",
   "execution_count": 308,
   "metadata": {},
   "outputs": [],
   "source": [
    "bitmex_price['1mins_ago'] =  bitmex_price['xbtusd'] - bitmex_price['xbtusd'].shift(1) \n",
    "bitmex_price['3mins_ago'] =  bitmex_price['xbtusd'] - bitmex_price['xbtusd'].shift(3) \n",
    "bitmex_price['5mins_ago'] = bitmex_price['xbtusd'] - bitmex_price['xbtusd'].shift(5)\n",
    "bitmex_price['10mins_ago'] = bitmex_price['xbtusd'] - bitmex_price['xbtusd'].shift(10)"
   ]
  },
  {
   "cell_type": "code",
   "execution_count": 309,
   "metadata": {},
   "outputs": [
    {
     "data": {
      "text/html": [
       "<div>\n",
       "<style scoped>\n",
       "    .dataframe tbody tr th:only-of-type {\n",
       "        vertical-align: middle;\n",
       "    }\n",
       "\n",
       "    .dataframe tbody tr th {\n",
       "        vertical-align: top;\n",
       "    }\n",
       "\n",
       "    .dataframe thead th {\n",
       "        text-align: right;\n",
       "    }\n",
       "</style>\n",
       "<table border=\"1\" class=\"dataframe\">\n",
       "  <thead>\n",
       "    <tr style=\"text-align: right;\">\n",
       "      <th></th>\n",
       "      <th>date</th>\n",
       "      <th>xbtusd</th>\n",
       "      <th>target</th>\n",
       "      <th>1mins_ago</th>\n",
       "      <th>3mins_ago</th>\n",
       "      <th>5mins_ago</th>\n",
       "      <th>10mins_ago</th>\n",
       "      <th>5mins_avg</th>\n",
       "      <th>10mins_avg</th>\n",
       "      <th>60mins_avg</th>\n",
       "    </tr>\n",
       "  </thead>\n",
       "  <tbody>\n",
       "    <tr>\n",
       "      <th>121916</th>\n",
       "      <td>2019-07-09 23:46:00</td>\n",
       "      <td>12573.25</td>\n",
       "      <td>12562.75</td>\n",
       "      <td>3.0</td>\n",
       "      <td>18.0</td>\n",
       "      <td>-5.0</td>\n",
       "      <td>-34.0</td>\n",
       "      <td>12568.45</td>\n",
       "      <td>12579.40</td>\n",
       "      <td>12585.975000</td>\n",
       "    </tr>\n",
       "    <tr>\n",
       "      <th>121917</th>\n",
       "      <td>2019-07-09 23:47:00</td>\n",
       "      <td>12562.75</td>\n",
       "      <td>12562.75</td>\n",
       "      <td>-10.5</td>\n",
       "      <td>-7.5</td>\n",
       "      <td>-15.5</td>\n",
       "      <td>-47.5</td>\n",
       "      <td>12567.85</td>\n",
       "      <td>12574.10</td>\n",
       "      <td>12586.116667</td>\n",
       "    </tr>\n",
       "    <tr>\n",
       "      <th>121918</th>\n",
       "      <td>2019-07-09 23:48:00</td>\n",
       "      <td>12562.75</td>\n",
       "      <td>12535.25</td>\n",
       "      <td>0.0</td>\n",
       "      <td>-7.5</td>\n",
       "      <td>7.5</td>\n",
       "      <td>-42.5</td>\n",
       "      <td>12566.35</td>\n",
       "      <td>12569.85</td>\n",
       "      <td>12586.425000</td>\n",
       "    </tr>\n",
       "    <tr>\n",
       "      <th>121919</th>\n",
       "      <td>2019-07-09 23:49:00</td>\n",
       "      <td>12535.25</td>\n",
       "      <td>12536.75</td>\n",
       "      <td>-27.5</td>\n",
       "      <td>-38.0</td>\n",
       "      <td>-35.0</td>\n",
       "      <td>-70.0</td>\n",
       "      <td>12553.85</td>\n",
       "      <td>12562.15</td>\n",
       "      <td>12586.108333</td>\n",
       "    </tr>\n",
       "    <tr>\n",
       "      <th>121920</th>\n",
       "      <td>2019-07-09 23:50:00</td>\n",
       "      <td>12536.75</td>\n",
       "      <td>12536.75</td>\n",
       "      <td>1.5</td>\n",
       "      <td>-26.0</td>\n",
       "      <td>-33.5</td>\n",
       "      <td>-48.0</td>\n",
       "      <td>12546.85</td>\n",
       "      <td>12558.15</td>\n",
       "      <td>12586.300000</td>\n",
       "    </tr>\n",
       "  </tbody>\n",
       "</table>\n",
       "</div>"
      ],
      "text/plain": [
       "                      date    xbtusd    target  1mins_ago  3mins_ago  \\\n",
       "121916 2019-07-09 23:46:00  12573.25  12562.75        3.0       18.0   \n",
       "121917 2019-07-09 23:47:00  12562.75  12562.75      -10.5       -7.5   \n",
       "121918 2019-07-09 23:48:00  12562.75  12535.25        0.0       -7.5   \n",
       "121919 2019-07-09 23:49:00  12535.25  12536.75      -27.5      -38.0   \n",
       "121920 2019-07-09 23:50:00  12536.75  12536.75        1.5      -26.0   \n",
       "\n",
       "        5mins_ago  10mins_ago  5mins_avg  10mins_avg    60mins_avg  \n",
       "121916       -5.0       -34.0   12568.45    12579.40  12585.975000  \n",
       "121917      -15.5       -47.5   12567.85    12574.10  12586.116667  \n",
       "121918        7.5       -42.5   12566.35    12569.85  12586.425000  \n",
       "121919      -35.0       -70.0   12553.85    12562.15  12586.108333  \n",
       "121920      -33.5       -48.0   12546.85    12558.15  12586.300000  "
      ]
     },
     "execution_count": 309,
     "metadata": {},
     "output_type": "execute_result"
    }
   ],
   "source": [
    "def every_x_min_avg(df, x):\n",
    "    sum_series = df['xbtusd'].copy()\n",
    "    for i in range(x-1):\n",
    "        sum_series += df['xbtusd'].shift(i)\n",
    "    return sum_series / x\n",
    "\n",
    "bitmex_price['5mins_avg'] = every_x_min_avg(bitmex_price, 5)\n",
    "bitmex_price['10mins_avg'] = every_x_min_avg(bitmex_price, 10)\n",
    "bitmex_price['60mins_avg'] = every_x_min_avg(bitmex_price, 60)\n",
    "bitmex_price.tail()"
   ]
  },
  {
   "cell_type": "code",
   "execution_count": 310,
   "metadata": {},
   "outputs": [
    {
     "data": {
      "text/html": [
       "<div>\n",
       "<style scoped>\n",
       "    .dataframe tbody tr th:only-of-type {\n",
       "        vertical-align: middle;\n",
       "    }\n",
       "\n",
       "    .dataframe tbody tr th {\n",
       "        vertical-align: top;\n",
       "    }\n",
       "\n",
       "    .dataframe thead th {\n",
       "        text-align: right;\n",
       "    }\n",
       "</style>\n",
       "<table border=\"1\" class=\"dataframe\">\n",
       "  <thead>\n",
       "    <tr style=\"text-align: right;\">\n",
       "      <th></th>\n",
       "      <th>date</th>\n",
       "      <th>xbtusd</th>\n",
       "      <th>target</th>\n",
       "      <th>1mins_ago</th>\n",
       "      <th>3mins_ago</th>\n",
       "      <th>5mins_ago</th>\n",
       "      <th>10mins_ago</th>\n",
       "      <th>5mins_avg</th>\n",
       "      <th>10mins_avg</th>\n",
       "      <th>60mins_avg</th>\n",
       "      <th>diff_5avg</th>\n",
       "      <th>diff_10avg</th>\n",
       "      <th>diff_60avg</th>\n",
       "    </tr>\n",
       "  </thead>\n",
       "  <tbody>\n",
       "    <tr>\n",
       "      <th>121916</th>\n",
       "      <td>2019-07-09 23:46:00</td>\n",
       "      <td>12573.25</td>\n",
       "      <td>12562.75</td>\n",
       "      <td>3.0</td>\n",
       "      <td>18.0</td>\n",
       "      <td>-5.0</td>\n",
       "      <td>-34.0</td>\n",
       "      <td>12568.45</td>\n",
       "      <td>12579.40</td>\n",
       "      <td>12585.975000</td>\n",
       "      <td>4.8</td>\n",
       "      <td>-6.15</td>\n",
       "      <td>-12.725000</td>\n",
       "    </tr>\n",
       "    <tr>\n",
       "      <th>121917</th>\n",
       "      <td>2019-07-09 23:47:00</td>\n",
       "      <td>12562.75</td>\n",
       "      <td>12562.75</td>\n",
       "      <td>-10.5</td>\n",
       "      <td>-7.5</td>\n",
       "      <td>-15.5</td>\n",
       "      <td>-47.5</td>\n",
       "      <td>12567.85</td>\n",
       "      <td>12574.10</td>\n",
       "      <td>12586.116667</td>\n",
       "      <td>-5.1</td>\n",
       "      <td>-11.35</td>\n",
       "      <td>-23.366667</td>\n",
       "    </tr>\n",
       "    <tr>\n",
       "      <th>121918</th>\n",
       "      <td>2019-07-09 23:48:00</td>\n",
       "      <td>12562.75</td>\n",
       "      <td>12535.25</td>\n",
       "      <td>0.0</td>\n",
       "      <td>-7.5</td>\n",
       "      <td>7.5</td>\n",
       "      <td>-42.5</td>\n",
       "      <td>12566.35</td>\n",
       "      <td>12569.85</td>\n",
       "      <td>12586.425000</td>\n",
       "      <td>-3.6</td>\n",
       "      <td>-7.10</td>\n",
       "      <td>-23.675000</td>\n",
       "    </tr>\n",
       "    <tr>\n",
       "      <th>121919</th>\n",
       "      <td>2019-07-09 23:49:00</td>\n",
       "      <td>12535.25</td>\n",
       "      <td>12536.75</td>\n",
       "      <td>-27.5</td>\n",
       "      <td>-38.0</td>\n",
       "      <td>-35.0</td>\n",
       "      <td>-70.0</td>\n",
       "      <td>12553.85</td>\n",
       "      <td>12562.15</td>\n",
       "      <td>12586.108333</td>\n",
       "      <td>-18.6</td>\n",
       "      <td>-26.90</td>\n",
       "      <td>-50.858333</td>\n",
       "    </tr>\n",
       "    <tr>\n",
       "      <th>121920</th>\n",
       "      <td>2019-07-09 23:50:00</td>\n",
       "      <td>12536.75</td>\n",
       "      <td>12536.75</td>\n",
       "      <td>1.5</td>\n",
       "      <td>-26.0</td>\n",
       "      <td>-33.5</td>\n",
       "      <td>-48.0</td>\n",
       "      <td>12546.85</td>\n",
       "      <td>12558.15</td>\n",
       "      <td>12586.300000</td>\n",
       "      <td>-10.1</td>\n",
       "      <td>-21.40</td>\n",
       "      <td>-49.550000</td>\n",
       "    </tr>\n",
       "  </tbody>\n",
       "</table>\n",
       "</div>"
      ],
      "text/plain": [
       "                      date    xbtusd    target  1mins_ago  3mins_ago  \\\n",
       "121916 2019-07-09 23:46:00  12573.25  12562.75        3.0       18.0   \n",
       "121917 2019-07-09 23:47:00  12562.75  12562.75      -10.5       -7.5   \n",
       "121918 2019-07-09 23:48:00  12562.75  12535.25        0.0       -7.5   \n",
       "121919 2019-07-09 23:49:00  12535.25  12536.75      -27.5      -38.0   \n",
       "121920 2019-07-09 23:50:00  12536.75  12536.75        1.5      -26.0   \n",
       "\n",
       "        5mins_ago  10mins_ago  5mins_avg  10mins_avg    60mins_avg  diff_5avg  \\\n",
       "121916       -5.0       -34.0   12568.45    12579.40  12585.975000        4.8   \n",
       "121917      -15.5       -47.5   12567.85    12574.10  12586.116667       -5.1   \n",
       "121918        7.5       -42.5   12566.35    12569.85  12586.425000       -3.6   \n",
       "121919      -35.0       -70.0   12553.85    12562.15  12586.108333      -18.6   \n",
       "121920      -33.5       -48.0   12546.85    12558.15  12586.300000      -10.1   \n",
       "\n",
       "        diff_10avg  diff_60avg  \n",
       "121916       -6.15  -12.725000  \n",
       "121917      -11.35  -23.366667  \n",
       "121918       -7.10  -23.675000  \n",
       "121919      -26.90  -50.858333  \n",
       "121920      -21.40  -49.550000  "
      ]
     },
     "execution_count": 310,
     "metadata": {},
     "output_type": "execute_result"
    }
   ],
   "source": [
    "bitmex_price['diff_5avg'] = bitmex_price['xbtusd'] - bitmex_price['5mins_avg']\n",
    "bitmex_price['diff_10avg'] = bitmex_price['xbtusd'] - bitmex_price['10mins_avg']\n",
    "bitmex_price['diff_60avg'] = bitmex_price['xbtusd'] - bitmex_price['60mins_avg']\n",
    "bitmex_price.tail()"
   ]
  },
  {
   "cell_type": "code",
   "execution_count": 311,
   "metadata": {},
   "outputs": [
    {
     "data": {
      "text/html": [
       "<div>\n",
       "<style scoped>\n",
       "    .dataframe tbody tr th:only-of-type {\n",
       "        vertical-align: middle;\n",
       "    }\n",
       "\n",
       "    .dataframe tbody tr th {\n",
       "        vertical-align: top;\n",
       "    }\n",
       "\n",
       "    .dataframe thead th {\n",
       "        text-align: right;\n",
       "    }\n",
       "</style>\n",
       "<table border=\"1\" class=\"dataframe\">\n",
       "  <thead>\n",
       "    <tr style=\"text-align: right;\">\n",
       "      <th></th>\n",
       "      <th>date</th>\n",
       "      <th>xbtusd</th>\n",
       "      <th>target</th>\n",
       "      <th>1mins_ago</th>\n",
       "      <th>3mins_ago</th>\n",
       "      <th>5mins_ago</th>\n",
       "      <th>10mins_ago</th>\n",
       "      <th>diff_5avg</th>\n",
       "      <th>diff_10avg</th>\n",
       "      <th>diff_60avg</th>\n",
       "    </tr>\n",
       "  </thead>\n",
       "  <tbody>\n",
       "    <tr>\n",
       "      <th>1</th>\n",
       "      <td>2019-04-13 10:56:00</td>\n",
       "      <td>5053.25</td>\n",
       "      <td>5053.25</td>\n",
       "      <td>NaN</td>\n",
       "      <td>NaN</td>\n",
       "      <td>NaN</td>\n",
       "      <td>NaN</td>\n",
       "      <td>NaN</td>\n",
       "      <td>NaN</td>\n",
       "      <td>NaN</td>\n",
       "    </tr>\n",
       "    <tr>\n",
       "      <th>2</th>\n",
       "      <td>2019-04-13 10:57:00</td>\n",
       "      <td>5053.25</td>\n",
       "      <td>5052.25</td>\n",
       "      <td>0.0</td>\n",
       "      <td>NaN</td>\n",
       "      <td>NaN</td>\n",
       "      <td>NaN</td>\n",
       "      <td>NaN</td>\n",
       "      <td>NaN</td>\n",
       "      <td>NaN</td>\n",
       "    </tr>\n",
       "    <tr>\n",
       "      <th>3</th>\n",
       "      <td>2019-04-13 10:58:00</td>\n",
       "      <td>5052.25</td>\n",
       "      <td>5049.25</td>\n",
       "      <td>-1.0</td>\n",
       "      <td>NaN</td>\n",
       "      <td>NaN</td>\n",
       "      <td>NaN</td>\n",
       "      <td>NaN</td>\n",
       "      <td>NaN</td>\n",
       "      <td>NaN</td>\n",
       "    </tr>\n",
       "    <tr>\n",
       "      <th>4</th>\n",
       "      <td>2019-04-13 10:59:00</td>\n",
       "      <td>5049.25</td>\n",
       "      <td>5047.25</td>\n",
       "      <td>-3.0</td>\n",
       "      <td>-4.0</td>\n",
       "      <td>NaN</td>\n",
       "      <td>NaN</td>\n",
       "      <td>-2.2</td>\n",
       "      <td>NaN</td>\n",
       "      <td>NaN</td>\n",
       "    </tr>\n",
       "    <tr>\n",
       "      <th>5</th>\n",
       "      <td>2019-04-13 11:00:00</td>\n",
       "      <td>5047.25</td>\n",
       "      <td>5051.25</td>\n",
       "      <td>-2.0</td>\n",
       "      <td>-6.0</td>\n",
       "      <td>NaN</td>\n",
       "      <td>NaN</td>\n",
       "      <td>-2.6</td>\n",
       "      <td>NaN</td>\n",
       "      <td>NaN</td>\n",
       "    </tr>\n",
       "  </tbody>\n",
       "</table>\n",
       "</div>"
      ],
      "text/plain": [
       "                 date   xbtusd   target  1mins_ago  3mins_ago  5mins_ago  \\\n",
       "1 2019-04-13 10:56:00  5053.25  5053.25        NaN        NaN        NaN   \n",
       "2 2019-04-13 10:57:00  5053.25  5052.25        0.0        NaN        NaN   \n",
       "3 2019-04-13 10:58:00  5052.25  5049.25       -1.0        NaN        NaN   \n",
       "4 2019-04-13 10:59:00  5049.25  5047.25       -3.0       -4.0        NaN   \n",
       "5 2019-04-13 11:00:00  5047.25  5051.25       -2.0       -6.0        NaN   \n",
       "\n",
       "   10mins_ago  diff_5avg  diff_10avg  diff_60avg  \n",
       "1         NaN        NaN         NaN         NaN  \n",
       "2         NaN        NaN         NaN         NaN  \n",
       "3         NaN        NaN         NaN         NaN  \n",
       "4         NaN       -2.2         NaN         NaN  \n",
       "5         NaN       -2.6         NaN         NaN  "
      ]
     },
     "execution_count": 311,
     "metadata": {},
     "output_type": "execute_result"
    }
   ],
   "source": [
    "bitmex_price.drop(columns=['5mins_avg', '10mins_avg', '60mins_avg'], inplace=True)\n",
    "bitmex_price.head()"
   ]
  },
  {
   "cell_type": "code",
   "execution_count": 312,
   "metadata": {},
   "outputs": [
    {
     "data": {
      "text/html": [
       "<div>\n",
       "<style scoped>\n",
       "    .dataframe tbody tr th:only-of-type {\n",
       "        vertical-align: middle;\n",
       "    }\n",
       "\n",
       "    .dataframe tbody tr th {\n",
       "        vertical-align: top;\n",
       "    }\n",
       "\n",
       "    .dataframe thead th {\n",
       "        text-align: right;\n",
       "    }\n",
       "</style>\n",
       "<table border=\"1\" class=\"dataframe\">\n",
       "  <thead>\n",
       "    <tr style=\"text-align: right;\">\n",
       "      <th></th>\n",
       "      <th>date</th>\n",
       "      <th>xbtusd</th>\n",
       "      <th>target</th>\n",
       "      <th>1mins_ago</th>\n",
       "      <th>3mins_ago</th>\n",
       "      <th>5mins_ago</th>\n",
       "      <th>10mins_ago</th>\n",
       "      <th>diff_5avg</th>\n",
       "      <th>diff_10avg</th>\n",
       "      <th>diff_60avg</th>\n",
       "    </tr>\n",
       "  </thead>\n",
       "  <tbody>\n",
       "    <tr>\n",
       "      <th>0</th>\n",
       "      <td>2019-04-13 11:56:00</td>\n",
       "      <td>5057.50</td>\n",
       "      <td>5058.75</td>\n",
       "      <td>0.75</td>\n",
       "      <td>3.25</td>\n",
       "      <td>3.25</td>\n",
       "      <td>0.75</td>\n",
       "      <td>1.45</td>\n",
       "      <td>2.150</td>\n",
       "      <td>0.341667</td>\n",
       "    </tr>\n",
       "    <tr>\n",
       "      <th>1</th>\n",
       "      <td>2019-04-13 11:57:00</td>\n",
       "      <td>5058.75</td>\n",
       "      <td>5059.75</td>\n",
       "      <td>1.25</td>\n",
       "      <td>4.50</td>\n",
       "      <td>4.50</td>\n",
       "      <td>3.00</td>\n",
       "      <td>1.55</td>\n",
       "      <td>2.975</td>\n",
       "      <td>1.462500</td>\n",
       "    </tr>\n",
       "    <tr>\n",
       "      <th>2</th>\n",
       "      <td>2019-04-13 11:58:00</td>\n",
       "      <td>5059.75</td>\n",
       "      <td>5061.25</td>\n",
       "      <td>1.00</td>\n",
       "      <td>3.00</td>\n",
       "      <td>5.50</td>\n",
       "      <td>4.00</td>\n",
       "      <td>1.25</td>\n",
       "      <td>3.375</td>\n",
       "      <td>2.270833</td>\n",
       "    </tr>\n",
       "    <tr>\n",
       "      <th>3</th>\n",
       "      <td>2019-04-13 11:59:00</td>\n",
       "      <td>5061.25</td>\n",
       "      <td>5061.25</td>\n",
       "      <td>1.50</td>\n",
       "      <td>3.75</td>\n",
       "      <td>7.00</td>\n",
       "      <td>6.50</td>\n",
       "      <td>1.55</td>\n",
       "      <td>4.025</td>\n",
       "      <td>3.512500</td>\n",
       "    </tr>\n",
       "    <tr>\n",
       "      <th>4</th>\n",
       "      <td>2019-04-13 12:00:00</td>\n",
       "      <td>5061.25</td>\n",
       "      <td>5060.25</td>\n",
       "      <td>0.00</td>\n",
       "      <td>2.50</td>\n",
       "      <td>4.50</td>\n",
       "      <td>7.00</td>\n",
       "      <td>0.80</td>\n",
       "      <td>3.325</td>\n",
       "      <td>3.345833</td>\n",
       "    </tr>\n",
       "    <tr>\n",
       "      <th>5</th>\n",
       "      <td>2019-04-13 12:01:00</td>\n",
       "      <td>5060.25</td>\n",
       "      <td>5058.75</td>\n",
       "      <td>-1.00</td>\n",
       "      <td>0.50</td>\n",
       "      <td>2.75</td>\n",
       "      <td>6.00</td>\n",
       "      <td>-0.30</td>\n",
       "      <td>1.825</td>\n",
       "      <td>2.270833</td>\n",
       "    </tr>\n",
       "    <tr>\n",
       "      <th>6</th>\n",
       "      <td>2019-04-13 12:02:00</td>\n",
       "      <td>5058.75</td>\n",
       "      <td>5059.25</td>\n",
       "      <td>-1.50</td>\n",
       "      <td>-2.50</td>\n",
       "      <td>0.00</td>\n",
       "      <td>4.50</td>\n",
       "      <td>-1.30</td>\n",
       "      <td>0.025</td>\n",
       "      <td>0.729167</td>\n",
       "    </tr>\n",
       "    <tr>\n",
       "      <th>7</th>\n",
       "      <td>2019-04-13 12:03:00</td>\n",
       "      <td>5059.25</td>\n",
       "      <td>5059.50</td>\n",
       "      <td>0.50</td>\n",
       "      <td>-2.00</td>\n",
       "      <td>-0.50</td>\n",
       "      <td>5.00</td>\n",
       "      <td>-0.50</td>\n",
       "      <td>-0.025</td>\n",
       "      <td>1.145833</td>\n",
       "    </tr>\n",
       "    <tr>\n",
       "      <th>8</th>\n",
       "      <td>2019-04-13 12:04:00</td>\n",
       "      <td>5059.50</td>\n",
       "      <td>5059.75</td>\n",
       "      <td>0.25</td>\n",
       "      <td>-0.75</td>\n",
       "      <td>-1.75</td>\n",
       "      <td>5.25</td>\n",
       "      <td>0.05</td>\n",
       "      <td>-0.075</td>\n",
       "      <td>1.320833</td>\n",
       "    </tr>\n",
       "    <tr>\n",
       "      <th>9</th>\n",
       "      <td>2019-04-13 12:05:00</td>\n",
       "      <td>5059.75</td>\n",
       "      <td>5060.75</td>\n",
       "      <td>0.25</td>\n",
       "      <td>1.00</td>\n",
       "      <td>-1.50</td>\n",
       "      <td>3.00</td>\n",
       "      <td>0.35</td>\n",
       "      <td>-0.075</td>\n",
       "      <td>1.508333</td>\n",
       "    </tr>\n",
       "  </tbody>\n",
       "</table>\n",
       "</div>"
      ],
      "text/plain": [
       "                 date   xbtusd   target  1mins_ago  3mins_ago  5mins_ago  \\\n",
       "0 2019-04-13 11:56:00  5057.50  5058.75       0.75       3.25       3.25   \n",
       "1 2019-04-13 11:57:00  5058.75  5059.75       1.25       4.50       4.50   \n",
       "2 2019-04-13 11:58:00  5059.75  5061.25       1.00       3.00       5.50   \n",
       "3 2019-04-13 11:59:00  5061.25  5061.25       1.50       3.75       7.00   \n",
       "4 2019-04-13 12:00:00  5061.25  5060.25       0.00       2.50       4.50   \n",
       "5 2019-04-13 12:01:00  5060.25  5058.75      -1.00       0.50       2.75   \n",
       "6 2019-04-13 12:02:00  5058.75  5059.25      -1.50      -2.50       0.00   \n",
       "7 2019-04-13 12:03:00  5059.25  5059.50       0.50      -2.00      -0.50   \n",
       "8 2019-04-13 12:04:00  5059.50  5059.75       0.25      -0.75      -1.75   \n",
       "9 2019-04-13 12:05:00  5059.75  5060.75       0.25       1.00      -1.50   \n",
       "\n",
       "   10mins_ago  diff_5avg  diff_10avg  diff_60avg  \n",
       "0        0.75       1.45       2.150    0.341667  \n",
       "1        3.00       1.55       2.975    1.462500  \n",
       "2        4.00       1.25       3.375    2.270833  \n",
       "3        6.50       1.55       4.025    3.512500  \n",
       "4        7.00       0.80       3.325    3.345833  \n",
       "5        6.00      -0.30       1.825    2.270833  \n",
       "6        4.50      -1.30       0.025    0.729167  \n",
       "7        5.00      -0.50      -0.025    1.145833  \n",
       "8        5.25       0.05      -0.075    1.320833  \n",
       "9        3.00       0.35      -0.075    1.508333  "
      ]
     },
     "execution_count": 312,
     "metadata": {},
     "output_type": "execute_result"
    }
   ],
   "source": [
    "bitmex_price.drop(bitmex_price.index[0:60], inplace=True)\n",
    "bitmex_price.reset_index(drop=True, inplace=True)\n",
    "bitmex_price.head(10)"
   ]
  },
  {
   "cell_type": "code",
   "execution_count": 313,
   "metadata": {},
   "outputs": [
    {
     "data": {
      "text/plain": [
       "date          0\n",
       "xbtusd        0\n",
       "target        0\n",
       "1mins_ago     0\n",
       "3mins_ago     0\n",
       "5mins_ago     0\n",
       "10mins_ago    0\n",
       "diff_5avg     0\n",
       "diff_10avg    0\n",
       "diff_60avg    0\n",
       "dtype: int64"
      ]
     },
     "execution_count": 313,
     "metadata": {},
     "output_type": "execute_result"
    }
   ],
   "source": [
    "bitmex_price.isnull().sum()"
   ]
  },
  {
   "cell_type": "code",
   "execution_count": 314,
   "metadata": {},
   "outputs": [],
   "source": [
    "from sklearn.model_selection import train_test_split\n",
    "y = bitmex_price.target\n",
    "bitmex_price.drop(columns=['target', 'date'], inplace=True)\n",
    "x_train, x_test, y_train, y_test = train_test_split(bitmex_price, y, test_size=0.20, shuffle=False)"
   ]
  },
  {
   "cell_type": "code",
   "execution_count": 315,
   "metadata": {},
   "outputs": [
    {
     "data": {
      "text/html": [
       "<div>\n",
       "<style scoped>\n",
       "    .dataframe tbody tr th:only-of-type {\n",
       "        vertical-align: middle;\n",
       "    }\n",
       "\n",
       "    .dataframe tbody tr th {\n",
       "        vertical-align: top;\n",
       "    }\n",
       "\n",
       "    .dataframe thead th {\n",
       "        text-align: right;\n",
       "    }\n",
       "</style>\n",
       "<table border=\"1\" class=\"dataframe\">\n",
       "  <thead>\n",
       "    <tr style=\"text-align: right;\">\n",
       "      <th></th>\n",
       "      <th>xbtusd</th>\n",
       "      <th>1mins_ago</th>\n",
       "      <th>3mins_ago</th>\n",
       "      <th>5mins_ago</th>\n",
       "      <th>10mins_ago</th>\n",
       "      <th>diff_5avg</th>\n",
       "      <th>diff_10avg</th>\n",
       "      <th>diff_60avg</th>\n",
       "    </tr>\n",
       "  </thead>\n",
       "  <tbody>\n",
       "    <tr>\n",
       "      <th>0</th>\n",
       "      <td>5057.50</td>\n",
       "      <td>0.75</td>\n",
       "      <td>3.25</td>\n",
       "      <td>3.25</td>\n",
       "      <td>0.75</td>\n",
       "      <td>1.45</td>\n",
       "      <td>2.150</td>\n",
       "      <td>0.341667</td>\n",
       "    </tr>\n",
       "    <tr>\n",
       "      <th>1</th>\n",
       "      <td>5058.75</td>\n",
       "      <td>1.25</td>\n",
       "      <td>4.50</td>\n",
       "      <td>4.50</td>\n",
       "      <td>3.00</td>\n",
       "      <td>1.55</td>\n",
       "      <td>2.975</td>\n",
       "      <td>1.462500</td>\n",
       "    </tr>\n",
       "    <tr>\n",
       "      <th>2</th>\n",
       "      <td>5059.75</td>\n",
       "      <td>1.00</td>\n",
       "      <td>3.00</td>\n",
       "      <td>5.50</td>\n",
       "      <td>4.00</td>\n",
       "      <td>1.25</td>\n",
       "      <td>3.375</td>\n",
       "      <td>2.270833</td>\n",
       "    </tr>\n",
       "    <tr>\n",
       "      <th>3</th>\n",
       "      <td>5061.25</td>\n",
       "      <td>1.50</td>\n",
       "      <td>3.75</td>\n",
       "      <td>7.00</td>\n",
       "      <td>6.50</td>\n",
       "      <td>1.55</td>\n",
       "      <td>4.025</td>\n",
       "      <td>3.512500</td>\n",
       "    </tr>\n",
       "    <tr>\n",
       "      <th>4</th>\n",
       "      <td>5061.25</td>\n",
       "      <td>0.00</td>\n",
       "      <td>2.50</td>\n",
       "      <td>4.50</td>\n",
       "      <td>7.00</td>\n",
       "      <td>0.80</td>\n",
       "      <td>3.325</td>\n",
       "      <td>3.345833</td>\n",
       "    </tr>\n",
       "  </tbody>\n",
       "</table>\n",
       "</div>"
      ],
      "text/plain": [
       "    xbtusd  1mins_ago  3mins_ago  5mins_ago  10mins_ago  diff_5avg  \\\n",
       "0  5057.50       0.75       3.25       3.25        0.75       1.45   \n",
       "1  5058.75       1.25       4.50       4.50        3.00       1.55   \n",
       "2  5059.75       1.00       3.00       5.50        4.00       1.25   \n",
       "3  5061.25       1.50       3.75       7.00        6.50       1.55   \n",
       "4  5061.25       0.00       2.50       4.50        7.00       0.80   \n",
       "\n",
       "   diff_10avg  diff_60avg  \n",
       "0       2.150    0.341667  \n",
       "1       2.975    1.462500  \n",
       "2       3.375    2.270833  \n",
       "3       4.025    3.512500  \n",
       "4       3.325    3.345833  "
      ]
     },
     "execution_count": 315,
     "metadata": {},
     "output_type": "execute_result"
    }
   ],
   "source": [
    "x_train.head()"
   ]
  },
  {
   "cell_type": "code",
   "execution_count": 316,
   "metadata": {},
   "outputs": [
    {
     "data": {
      "text/plain": [
       "0    5058.75\n",
       "1    5059.75\n",
       "2    5061.25\n",
       "3    5061.25\n",
       "4    5060.25\n",
       "Name: target, dtype: float64"
      ]
     },
     "execution_count": 316,
     "metadata": {},
     "output_type": "execute_result"
    }
   ],
   "source": [
    "y_train.head()"
   ]
  },
  {
   "cell_type": "code",
   "execution_count": 319,
   "metadata": {},
   "outputs": [],
   "source": [
    "x_train.to_csv('x_train.csv', index=False, header=True)\n",
    "\n",
    "x_test.to_csv('x_test.csv', index=False, header=True)\n",
    "\n",
    "y_train.to_csv('y_train.csv', index=False, header=True)\n",
    "\n",
    "y_test.to_csv('y_test.csv', index=False, header=True)"
   ]
  }
 ],
 "metadata": {
  "kernelspec": {
   "display_name": "Python 3",
   "language": "python",
   "name": "python3"
  },
  "language_info": {
   "codemirror_mode": {
    "name": "ipython",
    "version": 3
   },
   "file_extension": ".py",
   "mimetype": "text/x-python",
   "name": "python",
   "nbconvert_exporter": "python",
   "pygments_lexer": "ipython3",
   "version": "3.6.7"
  }
 },
 "nbformat": 4,
 "nbformat_minor": 2
}
